{
 "cells": [
  {
   "cell_type": "markdown",
   "id": "74193831-7bd3-4614-877f-09992a70b758",
   "metadata": {},
   "source": [
    "# Structure of Beam Code"
   ]
  },
  {
   "cell_type": "markdown",
   "id": "92cdf873-3601-4c03-8c32-7ed09f3d5467",
   "metadata": {},
   "source": [
    "* Create Pipeline Object\n",
    "* Input Data\n",
    "* Transform data\n",
    "* Output Data\n",
    "* Display Data"
   ]
  },
  {
   "cell_type": "markdown",
   "id": "2150866f-e1f0-4eb9-9967-cb593b073627",
   "metadata": {},
   "source": [
    "# First Beam Pipeline"
   ]
  },
  {
   "cell_type": "code",
   "execution_count": 1,
   "id": "4e0628e6-4542-4d20-92ad-ea9442f95348",
   "metadata": {},
   "outputs": [],
   "source": [
    "import apache_beam as beam"
   ]
  },
  {
   "cell_type": "code",
   "execution_count": 2,
   "id": "d7c3daab-a6bf-4f4f-8a32-3511b289b2d7",
   "metadata": {},
   "outputs": [],
   "source": [
    "from apache_beam.runners.interactive.interactive_runner import InteractiveRunner"
   ]
  },
  {
   "cell_type": "code",
   "execution_count": 3,
   "id": "44e46211-b112-4b5a-b39b-58204705e292",
   "metadata": {},
   "outputs": [],
   "source": [
    "p1 = beam.Pipeline(InteractiveRunner())"
   ]
  },
  {
   "cell_type": "code",
   "execution_count": 4,
   "id": "770d8bda-57cf-403c-8353-d42ac582ae66",
   "metadata": {},
   "outputs": [
    {
     "data": {
      "text/plain": [
       "apache_beam.pipeline.Pipeline"
      ]
     },
     "execution_count": 4,
     "metadata": {},
     "output_type": "execute_result"
    }
   ],
   "source": [
    "type(p1)"
   ]
  },
  {
   "cell_type": "raw",
   "id": "7f26e6ea-6c6e-46a3-be93-4285cf694aec",
   "metadata": {},
   "source": [
    "pipeline | step1 | step2 | step3 | |"
   ]
  },
  {
   "cell_type": "raw",
   "id": "a607274b-37d3-4656-a018-912c3c4bc535",
   "metadata": {},
   "source": [
    "Create 10 Element array\n",
    "For each element cube"
   ]
  },
  {
   "cell_type": "code",
   "execution_count": 5,
   "id": "235aafc5-60c2-4c34-845a-053af190f7c3",
   "metadata": {},
   "outputs": [],
   "source": [
    "from apache_beam import Create, Map"
   ]
  },
  {
   "cell_type": "code",
   "execution_count": 6,
   "id": "0e236b14-7f18-460c-bdc8-f01f17b05841",
   "metadata": {},
   "outputs": [],
   "source": [
    "findcube = (p1 \n",
    "        | \"Create Element\" >> Create(range(10))\n",
    "        | \"Find Cube\" >> Map(lambda x : x**3)\n",
    "        )"
   ]
  },
  {
   "cell_type": "code",
   "execution_count": 7,
   "id": "74d8b5be-2b90-41ee-8f3f-f2b48d927f4f",
   "metadata": {},
   "outputs": [
    {
     "data": {
      "text/plain": [
       "<PCollection[[6]: Find Cube.None] at 0x7f847ea23790>"
      ]
     },
     "execution_count": 7,
     "metadata": {},
     "output_type": "execute_result"
    }
   ],
   "source": [
    "findcube"
   ]
  },
  {
   "cell_type": "code",
   "execution_count": 8,
   "id": "e23f2bb9-779d-4087-ae6d-40c01b0c2f02",
   "metadata": {},
   "outputs": [
    {
     "name": "stderr",
     "output_type": "stream",
     "text": [
      "WARNING:root:Make sure that locally built Python SDK docker image has Python 3.7 interpreter.\n"
     ]
    },
    {
     "data": {
      "text/plain": [
       "<apache_beam.runners.interactive.interactive_runner.PipelineResult at 0x7f847e8da250>"
      ]
     },
     "execution_count": 8,
     "metadata": {},
     "output_type": "execute_result"
    }
   ],
   "source": [
    "p1.run()"
   ]
  },
  {
   "cell_type": "code",
   "execution_count": 9,
   "id": "4b53e8e6-43b0-495d-bca9-81daf1d0b5d1",
   "metadata": {},
   "outputs": [
    {
     "name": "stdout",
     "output_type": "stream",
     "text": [
      "PCollection[[6]: Find Cube.None]\n"
     ]
    }
   ],
   "source": [
    "print(findcube)"
   ]
  },
  {
   "cell_type": "code",
   "execution_count": 10,
   "id": "18629959-b3c9-4a9f-b0c3-ac8ef2dfaa95",
   "metadata": {},
   "outputs": [],
   "source": [
    "import apache_beam.runners.interactive.interactive_beam as ib"
   ]
  },
  {
   "cell_type": "code",
   "execution_count": 11,
   "id": "f48aaa3e-1575-4cb8-bde2-87cb5a604c32",
   "metadata": {
    "tags": []
   },
   "outputs": [],
   "source": [
    "#ib.show_graph(p1)"
   ]
  },
  {
   "cell_type": "code",
   "execution_count": 12,
   "id": "64e43fa2-8b48-416d-beb9-2789ab2117ff",
   "metadata": {},
   "outputs": [
    {
     "data": {
      "text/html": [
       "\n",
       "            <link rel=\"stylesheet\" href=\"https://stackpath.bootstrapcdn.com/bootstrap/4.4.1/css/bootstrap.min.css\" integrity=\"sha384-Vkoo8x4CGsO3+Hhxv8T/Q5PaXtkKtu6ug5TOeNV6gBiFeWPGFN9MuhOf23Q9Ifjh\" crossorigin=\"anonymous\">\n",
       "            <div id=\"progress_indicator_2faeca21bfefa5a09223d09f511013f0\" class=\"spinner-border text-info\" role=\"status\">\n",
       "            </div>"
      ],
      "text/plain": [
       "<IPython.core.display.HTML object>"
      ]
     },
     "metadata": {},
     "output_type": "display_data"
    },
    {
     "data": {
      "text/html": [
       "\n",
       "            <style>\n",
       "            .p-Widget.jp-OutputPrompt.jp-OutputArea-prompt:empty {\n",
       "              padding: 0;\n",
       "              border: 0;\n",
       "            }\n",
       "            .p-Widget.jp-RenderedJavaScript.jp-mod-trusted.jp-OutputArea-output:empty {\n",
       "              padding: 0;\n",
       "              border: 0;\n",
       "            }\n",
       "            </style>\n",
       "            <div id=\"no_data_table_df_00d3c85bc64dac6fb2c80749784f6b1e\">No data to display.</div>"
      ],
      "text/plain": [
       "<IPython.core.display.HTML object>"
      ]
     },
     "metadata": {},
     "output_type": "display_data"
    },
    {
     "data": {
      "application/javascript": [
       "\n",
       "        if (typeof window.interactive_beam_jquery == 'undefined') {\n",
       "          var jqueryScript = document.createElement('script');\n",
       "          jqueryScript.src = 'https://code.jquery.com/jquery-3.4.1.slim.min.js';\n",
       "          jqueryScript.type = 'text/javascript';\n",
       "          jqueryScript.onload = function() {\n",
       "            var datatableScript = document.createElement('script');\n",
       "            datatableScript.src = 'https://cdn.datatables.net/1.10.20/js/jquery.dataTables.min.js';\n",
       "            datatableScript.type = 'text/javascript';\n",
       "            datatableScript.onload = function() {\n",
       "              window.interactive_beam_jquery = jQuery.noConflict(true);\n",
       "              window.interactive_beam_jquery(document).ready(function($){\n",
       "                \n",
       "            $(\"#progress_indicator_2faeca21bfefa5a09223d09f511013f0\").remove();\n",
       "              });\n",
       "            }\n",
       "            document.head.appendChild(datatableScript);\n",
       "          };\n",
       "          document.head.appendChild(jqueryScript);\n",
       "        } else {\n",
       "          window.interactive_beam_jquery(document).ready(function($){\n",
       "            \n",
       "            $(\"#progress_indicator_2faeca21bfefa5a09223d09f511013f0\").remove();\n",
       "          });\n",
       "        }"
      ]
     },
     "metadata": {},
     "output_type": "display_data"
    }
   ],
   "source": [
    "ib.show(findcube)"
   ]
  },
  {
   "cell_type": "markdown",
   "id": "74b63078-7adf-4b07-bfe5-62ceeb6a2a41",
   "metadata": {},
   "source": [
    "# Combine All Code"
   ]
  },
  {
   "cell_type": "code",
   "execution_count": 13,
   "id": "05ac7dc9-68fd-4c81-9b05-3a6f450b0986",
   "metadata": {
    "tags": []
   },
   "outputs": [
    {
     "name": "stderr",
     "output_type": "stream",
     "text": [
      "WARNING:root:Make sure that locally built Python SDK docker image has Python 3.7 interpreter.\n"
     ]
    },
    {
     "data": {
      "text/html": [
       "\n",
       "            <link rel=\"stylesheet\" href=\"https://stackpath.bootstrapcdn.com/bootstrap/4.4.1/css/bootstrap.min.css\" integrity=\"sha384-Vkoo8x4CGsO3+Hhxv8T/Q5PaXtkKtu6ug5TOeNV6gBiFeWPGFN9MuhOf23Q9Ifjh\" crossorigin=\"anonymous\">\n",
       "            <div id=\"progress_indicator_254791114ce5325d6acaf0ab05198b78\" class=\"spinner-border text-info\" role=\"status\">\n",
       "            </div>"
      ],
      "text/plain": [
       "<IPython.core.display.HTML object>"
      ]
     },
     "metadata": {},
     "output_type": "display_data"
    },
    {
     "data": {
      "text/html": [
       "\n",
       "            <style>\n",
       "            .p-Widget.jp-OutputPrompt.jp-OutputArea-prompt:empty {\n",
       "              padding: 0;\n",
       "              border: 0;\n",
       "            }\n",
       "            .p-Widget.jp-RenderedJavaScript.jp-mod-trusted.jp-OutputArea-output:empty {\n",
       "              padding: 0;\n",
       "              border: 0;\n",
       "            }\n",
       "            </style>\n",
       "            <link rel=\"stylesheet\" href=\"https://cdn.datatables.net/1.10.20/css/jquery.dataTables.min.css\">\n",
       "            <table id=\"table_df_44799c4840ab5cf0dc7751710619deb7\" class=\"display\" style=\"display:block\"></table>\n",
       "            <script>\n",
       "              \n",
       "        if (typeof window.interactive_beam_jquery == 'undefined') {\n",
       "          var jqueryScript = document.createElement('script');\n",
       "          jqueryScript.src = 'https://code.jquery.com/jquery-3.4.1.slim.min.js';\n",
       "          jqueryScript.type = 'text/javascript';\n",
       "          jqueryScript.onload = function() {\n",
       "            var datatableScript = document.createElement('script');\n",
       "            datatableScript.src = 'https://cdn.datatables.net/1.10.20/js/jquery.dataTables.min.js';\n",
       "            datatableScript.type = 'text/javascript';\n",
       "            datatableScript.onload = function() {\n",
       "              window.interactive_beam_jquery = jQuery.noConflict(true);\n",
       "              window.interactive_beam_jquery(document).ready(function($){\n",
       "                \n",
       "            var dt;\n",
       "            if ($.fn.dataTable.isDataTable(\"#table_df_44799c4840ab5cf0dc7751710619deb7\")) {\n",
       "              dt = $(\"#table_df_44799c4840ab5cf0dc7751710619deb7\").dataTable();\n",
       "            } else if ($(\"#table_df_44799c4840ab5cf0dc7751710619deb7_wrapper\").length == 0) {\n",
       "              dt = $(\"#table_df_44799c4840ab5cf0dc7751710619deb7\").dataTable({\n",
       "                \n",
       "            bAutoWidth: false,\n",
       "            columns: [{'title': ''}, {'title': 'findcube.0'}],\n",
       "            destroy: true,\n",
       "            responsive: true,\n",
       "            columnDefs: [\n",
       "              {\n",
       "                targets: \"_all\",\n",
       "                className: \"dt-left\"\n",
       "              },\n",
       "              {\n",
       "                \"targets\": 0,\n",
       "                \"width\": \"10px\",\n",
       "                \"title\": \"\"\n",
       "              }\n",
       "            ]\n",
       "              });\n",
       "            } else {\n",
       "              return;\n",
       "            }\n",
       "            dt.api()\n",
       "              .clear()\n",
       "              .rows.add([{1: '0', 0: 0}, {1: '1', 0: 1}, {1: '8', 0: 2}, {1: '27', 0: 3}, {1: '64', 0: 4}, {1: '125', 0: 5}, {1: '216', 0: 6}, {1: '343', 0: 7}, {1: '512', 0: 8}, {1: '729', 0: 9}])\n",
       "              .draw('full-hold');\n",
       "              });\n",
       "            }\n",
       "            document.head.appendChild(datatableScript);\n",
       "          };\n",
       "          document.head.appendChild(jqueryScript);\n",
       "        } else {\n",
       "          window.interactive_beam_jquery(document).ready(function($){\n",
       "            \n",
       "            var dt;\n",
       "            if ($.fn.dataTable.isDataTable(\"#table_df_44799c4840ab5cf0dc7751710619deb7\")) {\n",
       "              dt = $(\"#table_df_44799c4840ab5cf0dc7751710619deb7\").dataTable();\n",
       "            } else if ($(\"#table_df_44799c4840ab5cf0dc7751710619deb7_wrapper\").length == 0) {\n",
       "              dt = $(\"#table_df_44799c4840ab5cf0dc7751710619deb7\").dataTable({\n",
       "                \n",
       "            bAutoWidth: false,\n",
       "            columns: [{'title': ''}, {'title': 'findcube.0'}],\n",
       "            destroy: true,\n",
       "            responsive: true,\n",
       "            columnDefs: [\n",
       "              {\n",
       "                targets: \"_all\",\n",
       "                className: \"dt-left\"\n",
       "              },\n",
       "              {\n",
       "                \"targets\": 0,\n",
       "                \"width\": \"10px\",\n",
       "                \"title\": \"\"\n",
       "              }\n",
       "            ]\n",
       "              });\n",
       "            } else {\n",
       "              return;\n",
       "            }\n",
       "            dt.api()\n",
       "              .clear()\n",
       "              .rows.add([{1: '0', 0: 0}, {1: '1', 0: 1}, {1: '8', 0: 2}, {1: '27', 0: 3}, {1: '64', 0: 4}, {1: '125', 0: 5}, {1: '216', 0: 6}, {1: '343', 0: 7}, {1: '512', 0: 8}, {1: '729', 0: 9}])\n",
       "              .draw('full-hold');\n",
       "          });\n",
       "        }\n",
       "            </script>"
      ],
      "text/plain": [
       "<IPython.core.display.HTML object>"
      ]
     },
     "metadata": {},
     "output_type": "display_data"
    },
    {
     "data": {
      "application/javascript": [
       "\n",
       "        if (typeof window.interactive_beam_jquery == 'undefined') {\n",
       "          var jqueryScript = document.createElement('script');\n",
       "          jqueryScript.src = 'https://code.jquery.com/jquery-3.4.1.slim.min.js';\n",
       "          jqueryScript.type = 'text/javascript';\n",
       "          jqueryScript.onload = function() {\n",
       "            var datatableScript = document.createElement('script');\n",
       "            datatableScript.src = 'https://cdn.datatables.net/1.10.20/js/jquery.dataTables.min.js';\n",
       "            datatableScript.type = 'text/javascript';\n",
       "            datatableScript.onload = function() {\n",
       "              window.interactive_beam_jquery = jQuery.noConflict(true);\n",
       "              window.interactive_beam_jquery(document).ready(function($){\n",
       "                \n",
       "            $(\"#progress_indicator_254791114ce5325d6acaf0ab05198b78\").remove();\n",
       "              });\n",
       "            }\n",
       "            document.head.appendChild(datatableScript);\n",
       "          };\n",
       "          document.head.appendChild(jqueryScript);\n",
       "        } else {\n",
       "          window.interactive_beam_jquery(document).ready(function($){\n",
       "            \n",
       "            $(\"#progress_indicator_254791114ce5325d6acaf0ab05198b78\").remove();\n",
       "          });\n",
       "        }"
      ]
     },
     "metadata": {},
     "output_type": "display_data"
    }
   ],
   "source": [
    "import apache_beam as beam\n",
    "from apache_beam.runners.interactive.interactive_runner import InteractiveRunner\n",
    "from apache_beam import Create, Map\n",
    "\n",
    "p1 = beam.Pipeline(InteractiveRunner())\n",
    "findcube = (p1 \n",
    "        | \"Create Element\" >> Create(range(10))\n",
    "        | \"Find Cube\" >> Map(lambda x : x**3)\n",
    "        )\n",
    "\n",
    "p1.run()\n",
    "ib.show(findcube)"
   ]
  },
  {
   "cell_type": "code",
   "execution_count": 14,
   "id": "2c0f826c-52c4-46f8-9863-613abaf8430c",
   "metadata": {
    "tags": []
   },
   "outputs": [
    {
     "name": "stderr",
     "output_type": "stream",
     "text": [
      "WARNING:root:Make sure that locally built Python SDK docker image has Python 3.7 interpreter.\n"
     ]
    },
    {
     "name": "stdout",
     "output_type": "stream",
     "text": [
      "0\n",
      "1\n",
      "8\n",
      "27\n",
      "64\n",
      "125\n",
      "216\n",
      "343\n",
      "512\n",
      "729\n"
     ]
    },
    {
     "data": {
      "text/plain": [
       "<apache_beam.runners.portability.fn_api_runner.fn_runner.RunnerResult at 0x7f8497f32190>"
      ]
     },
     "execution_count": 14,
     "metadata": {},
     "output_type": "execute_result"
    }
   ],
   "source": [
    "import apache_beam as beam\n",
    "from apache_beam import \n",
    "\n",
    "\n",
    "Create, Map\n",
    "\n",
    "p1 = beam.Pipeline()\n",
    "findcube = (p1 \n",
    "        | \"Create Element\" >> Create(range(10))\n",
    "        | \"Find Cube\" >> Map(lambda x : x**3)\n",
    "        | \"Print\" >> Map(print)\n",
    "        )\n",
    "\n",
    "p1.run()"
   ]
  },
  {
   "cell_type": "markdown",
   "id": "9fb31b75-5862-4993-94a7-212794cec033",
   "metadata": {},
   "source": [
    "# Create"
   ]
  },
  {
   "cell_type": "code",
   "execution_count": 15,
   "id": "ac76fa86-91ff-4cc6-880e-e0f5b48077df",
   "metadata": {},
   "outputs": [
    {
     "name": "stderr",
     "output_type": "stream",
     "text": [
      "WARNING:root:Make sure that locally built Python SDK docker image has Python 3.7 interpreter.\n"
     ]
    },
    {
     "name": "stdout",
     "output_type": "stream",
     "text": [
      "1\n",
      "125\n",
      "512\n"
     ]
    },
    {
     "data": {
      "text/plain": [
       "<apache_beam.runners.portability.fn_api_runner.fn_runner.RunnerResult at 0x7f847c4921d0>"
      ]
     },
     "execution_count": 15,
     "metadata": {},
     "output_type": "execute_result"
    }
   ],
   "source": [
    "import apache_beam as beam\n",
    "from apache_beam import Create, Map\n",
    "\n",
    "p1 = beam.Pipeline()\n",
    "findcube = (p1 \n",
    "        | \"Create Element\" >> Create([1,5,8])\n",
    "        | \"Find Cube\" >> Map(lambda x : x**3)\n",
    "        | \"Print\" >> Map(print)\n",
    "        )\n",
    "\n",
    "p1.run()"
   ]
  },
  {
   "cell_type": "code",
   "execution_count": 17,
   "id": "05f537cd-ee7c-4136-b21b-6a44dc8cb796",
   "metadata": {},
   "outputs": [
    {
     "name": "stderr",
     "output_type": "stream",
     "text": [
      "WARNING:root:Make sure that locally built Python SDK docker image has Python 3.7 interpreter.\n"
     ]
    },
    {
     "name": "stdout",
     "output_type": "stream",
     "text": [
      "HELLO\n",
      "WORLD\n"
     ]
    },
    {
     "data": {
      "text/plain": [
       "<apache_beam.runners.portability.fn_api_runner.fn_runner.RunnerResult at 0x7f847c169210>"
      ]
     },
     "execution_count": 17,
     "metadata": {},
     "output_type": "execute_result"
    }
   ],
   "source": [
    "import apache_beam as beam\n",
    "from apache_beam import Create, Map\n",
    "\n",
    "p1 = beam.Pipeline()\n",
    "findcube = (p1 \n",
    "        | \"Create Element\" >> Create([\"hello\", \"world\"])\n",
    "        | \"Find Cube\" >> Map(lambda x : x.upper())\n",
    "        | \"Print\" >> Map(print)\n",
    "        )\n",
    "\n",
    "p1.run()"
   ]
  },
  {
   "cell_type": "code",
   "execution_count": 20,
   "id": "f2a5bc04-f73b-4e4e-9593-af502524274e",
   "metadata": {},
   "outputs": [
    {
     "name": "stderr",
     "output_type": "stream",
     "text": [
      "WARNING:root:Make sure that locally built Python SDK docker image has Python 3.7 interpreter.\n"
     ]
    },
    {
     "name": "stdout",
     "output_type": "stream",
     "text": [
      "bar\n",
      "world\n"
     ]
    },
    {
     "data": {
      "text/plain": [
       "<apache_beam.runners.portability.fn_api_runner.fn_runner.RunnerResult at 0x7f8497e8b650>"
      ]
     },
     "execution_count": 20,
     "metadata": {},
     "output_type": "execute_result"
    }
   ],
   "source": [
    "import apache_beam as beam\n",
    "from apache_beam import Create, Map\n",
    "\n",
    "p1 = beam.Pipeline()\n",
    "findcube = (p1 \n",
    "        | \"Create Element\" >> Create( {  \"foo\" : \"bar\" , \"hello\" : \"world\" })\n",
    "        | \"Find Cube\" >> Map(lambda x : x[1])\n",
    "        | \"Print\" >> Map(print)\n",
    "        )\n",
    "\n",
    "p1.run()"
   ]
  },
  {
   "cell_type": "markdown",
   "id": "36b40568-5ce4-440b-87dc-2a78cb71a26f",
   "metadata": {},
   "source": [
    "# Flatten"
   ]
  },
  {
   "cell_type": "code",
   "execution_count": 23,
   "id": "8cbd4fb8-154b-4372-ad32-578c53bebf76",
   "metadata": {},
   "outputs": [
    {
     "name": "stderr",
     "output_type": "stream",
     "text": [
      "WARNING:root:Make sure that locally built Python SDK docker image has Python 3.7 interpreter.\n"
     ]
    },
    {
     "name": "stdout",
     "output_type": "stream",
     "text": [
      "1\n",
      "3\n",
      "5\n",
      "7\n",
      "9\n",
      "8\n",
      "2\n",
      "4\n",
      "6\n"
     ]
    },
    {
     "data": {
      "text/plain": [
       "<apache_beam.runners.portability.fn_api_runner.fn_runner.RunnerResult at 0x7f84655e8490>"
      ]
     },
     "execution_count": 23,
     "metadata": {},
     "output_type": "execute_result"
    }
   ],
   "source": [
    "import apache_beam as beam\n",
    "\n",
    "p1 = beam.Pipeline()\n",
    "\n",
    "even = {2,4,6,8}\n",
    "odd = {1,3,5,7,9}\n",
    "\n",
    "even_p1 = p1 | \"Even No\" >> beam.Create(even)\n",
    "odd_p1 = p1 | \"odd No\" >> beam.Create(odd)\n",
    "\n",
    "flat_out =  (even_p1, odd_p1) | beam.Flatten() | beam.Map(print)\n",
    "\n",
    "p1.run()"
   ]
  },
  {
   "cell_type": "markdown",
   "id": "55a5087f-f846-4f6b-ba59-6f41a290e4a4",
   "metadata": {},
   "source": [
    "# Map/FlatMap"
   ]
  },
  {
   "cell_type": "code",
   "execution_count": 24,
   "id": "5952f342-fa33-4764-bbc9-e2870a882974",
   "metadata": {},
   "outputs": [
    {
     "name": "stderr",
     "output_type": "stream",
     "text": [
      "WARNING:root:Make sure that locally built Python SDK docker image has Python 3.7 interpreter.\n"
     ]
    },
    {
     "name": "stdout",
     "output_type": "stream",
     "text": [
      "1\n",
      "125\n",
      "512\n"
     ]
    },
    {
     "data": {
      "text/plain": [
       "<apache_beam.runners.portability.fn_api_runner.fn_runner.RunnerResult at 0x7f846563c310>"
      ]
     },
     "execution_count": 24,
     "metadata": {},
     "output_type": "execute_result"
    }
   ],
   "source": [
    "import apache_beam as beam\n",
    "from apache_beam import Create, Map\n",
    "\n",
    "def findcube(element):\n",
    "    return element ** 3\n",
    "\n",
    "p1 = beam.Pipeline()\n",
    "findcube = (p1 \n",
    "        | \"Create Element\" >> Create([1,5,8])\n",
    "        | \"Find Cube\" >> Map(findcube)\n",
    "        | \"Print\" >> Map(print)\n",
    "        )\n",
    "\n",
    "p1.run()"
   ]
  },
  {
   "cell_type": "code",
   "execution_count": 26,
   "id": "feebb6db-be0b-40f5-917d-fb108998ceca",
   "metadata": {},
   "outputs": [
    {
     "name": "stderr",
     "output_type": "stream",
     "text": [
      "WARNING:root:Make sure that locally built Python SDK docker image has Python 3.7 interpreter.\n"
     ]
    },
    {
     "name": "stdout",
     "output_type": "stream",
     "text": [
      "foo\n",
      "bar\n",
      "hello\n",
      "world\n"
     ]
    },
    {
     "data": {
      "text/plain": [
       "<apache_beam.runners.portability.fn_api_runner.fn_runner.RunnerResult at 0x7f8464efca10>"
      ]
     },
     "execution_count": 26,
     "metadata": {},
     "output_type": "execute_result"
    }
   ],
   "source": [
    "import apache_beam as beam\n",
    "from apache_beam import Create, Map, FlatMap\n",
    "\n",
    "p1 = beam.Pipeline()\n",
    "findcube = (p1 \n",
    "        | \"Create Element\" >> Create([\"foo bar\", \"hello world\"])\n",
    "        | \"String spliting\" >> FlatMap(str.split)\n",
    "        | \"Print\" >> Map(print)\n",
    "        )\n",
    "\n",
    "p1.run()"
   ]
  },
  {
   "cell_type": "markdown",
   "id": "2dc073c0-95ea-4aa2-a3cb-91faa8004b77",
   "metadata": {},
   "source": [
    "# Filter"
   ]
  },
  {
   "cell_type": "code",
   "execution_count": 29,
   "id": "bc94716d-044e-445e-bcf4-600d1f004b0a",
   "metadata": {},
   "outputs": [
    {
     "name": "stderr",
     "output_type": "stream",
     "text": [
      "WARNING:root:Make sure that locally built Python SDK docker image has Python 3.7 interpreter.\n"
     ]
    },
    {
     "name": "stdout",
     "output_type": "stream",
     "text": [
      "0\n",
      "2\n",
      "4\n",
      "6\n",
      "8\n",
      "10\n",
      "12\n",
      "14\n",
      "16\n",
      "18\n"
     ]
    },
    {
     "data": {
      "text/plain": [
       "<apache_beam.runners.portability.fn_api_runner.fn_runner.RunnerResult at 0x7f8465765390>"
      ]
     },
     "execution_count": 29,
     "metadata": {},
     "output_type": "execute_result"
    }
   ],
   "source": [
    "import apache_beam as beam\n",
    "from apache_beam import Create, Filter\n",
    "\n",
    "p1 = beam.Pipeline()\n",
    "filter_even = (p1 \n",
    "        | \"Create Element\" >> Create(range(20))\n",
    "        | \"Filter Even\" >> Filter(lambda x : x % 2 == 0)\n",
    "        | \"Print\" >> Map(print)\n",
    "        )\n",
    "\n",
    "p1.run()"
   ]
  },
  {
   "cell_type": "code",
   "execution_count": 32,
   "id": "176b3970-5ec3-4b37-80f0-2b6a61f2ee9e",
   "metadata": {},
   "outputs": [
    {
     "name": "stderr",
     "output_type": "stream",
     "text": [
      "WARNING:root:Make sure that locally built Python SDK docker image has Python 3.7 interpreter.\n"
     ]
    },
    {
     "name": "stdout",
     "output_type": "stream",
     "text": [
      "World\n"
     ]
    },
    {
     "data": {
      "text/plain": [
       "<apache_beam.runners.portability.fn_api_runner.fn_runner.RunnerResult at 0x7f8465269190>"
      ]
     },
     "execution_count": 32,
     "metadata": {},
     "output_type": "execute_result"
    }
   ],
   "source": [
    "import apache_beam as beam\n",
    "from apache_beam import Create, Filter\n",
    "\n",
    "p1 = beam.Pipeline()\n",
    "filter_even = (p1 \n",
    "        | \"Create Element\" >> Create([\"Hello\" , \"World\", \"Hey\"])\n",
    "        | \"Filter Even\" >> Filter(lambda x : x.startswith(\"W\"))\n",
    "        | \"Print\" >> Map(print)\n",
    "        )\n",
    "\n",
    "p1.run()"
   ]
  },
  {
   "cell_type": "markdown",
   "id": "447ed916-a3bf-4261-bdb3-d3672f176e6c",
   "metadata": {},
   "source": [
    "# ParDo"
   ]
  },
  {
   "cell_type": "code",
   "execution_count": 34,
   "id": "8ec09ce2-2c71-44da-81cd-723a3ccf8f4c",
   "metadata": {},
   "outputs": [
    {
     "name": "stderr",
     "output_type": "stream",
     "text": [
      "WARNING:root:Make sure that locally built Python SDK docker image has Python 3.7 interpreter.\n"
     ]
    },
    {
     "name": "stdout",
     "output_type": "stream",
     "text": [
      "foo\n",
      "bar\n"
     ]
    },
    {
     "data": {
      "text/plain": [
       "<apache_beam.runners.portability.fn_api_runner.fn_runner.RunnerResult at 0x7f8465118190>"
      ]
     },
     "execution_count": 34,
     "metadata": {},
     "output_type": "execute_result"
    }
   ],
   "source": [
    "import apache_beam as beam\n",
    "from apache_beam import Create, Map, ParDo, Filter\n",
    "\n",
    "p1 = beam.Pipeline()\n",
    "findcube = (p1 \n",
    "        | \"Create Element\" >> Create([\"foo bar\", \"hello world\"])\n",
    "        | \"Filter Startwith f\" >> Filter(lambda x : x.startswith(\"f\"))\n",
    "        | \"String spliting\" >> ParDo(str.split)\n",
    "        | \"Print\" >> Map(print)\n",
    "        )\n",
    "\n",
    "p1.run()"
   ]
  },
  {
   "cell_type": "markdown",
   "id": "e645938e-705b-4ab7-bdaa-e6daa33c1458",
   "metadata": {},
   "source": [
    "# keys, Values, String, Kvswap"
   ]
  },
  {
   "cell_type": "code",
   "execution_count": 40,
   "id": "643c4afd-3d91-4a77-b479-321a10cf23bb",
   "metadata": {},
   "outputs": [
    {
     "name": "stderr",
     "output_type": "stream",
     "text": [
      "WARNING:root:Make sure that locally built Python SDK docker image has Python 3.7 interpreter.\n"
     ]
    },
    {
     "name": "stdout",
     "output_type": "stream",
     "text": [
      "bar\n",
      "world\n"
     ]
    },
    {
     "data": {
      "text/plain": [
       "<apache_beam.runners.portability.fn_api_runner.fn_runner.RunnerResult at 0x7f8465a74910>"
      ]
     },
     "execution_count": 40,
     "metadata": {},
     "output_type": "execute_result"
    }
   ],
   "source": [
    "import apache_beam as beam\n",
    "from apache_beam import Create, Map\n",
    "\n",
    "p1 = beam.Pipeline()\n",
    "findcube = (p1 \n",
    "        | \"Create Element\" >> Create( {  \"foo\" : \"bar\" , \"hello\" : \"world\" })\n",
    "        #| \"All Keys\" >> beam.Keys()\n",
    "        #| \"All Values\" >> beam.Values()\n",
    "        #| \"String Display\" >> beam.ToString.Element()  #Kvs()    \n",
    "        | \"kv swap\" >> beam.KvSwap() \n",
    "        | \"Print\" >> Map(print)\n",
    "        )\n",
    "\n",
    "p1.run()"
   ]
  },
  {
   "cell_type": "markdown",
   "id": "b6ed2937-e242-481b-b63a-48949228ee76",
   "metadata": {},
   "source": [
    "# Partition"
   ]
  },
  {
   "cell_type": "code",
   "execution_count": 41,
   "id": "1ab61904-d4ce-4847-8837-abb289c58802",
   "metadata": {},
   "outputs": [
    {
     "name": "stdout",
     "output_type": "stream",
     "text": [
      "/bin/bash: /opt/conda/lib/libtinfo.so.6: no version information available (required by /bin/bash)\n",
      "Requirement already satisfied: sympy in /root/apache-beam-2.37.0/lib/python3.7/site-packages (1.10.1)\n",
      "Requirement already satisfied: mpmath>=0.19 in /root/apache-beam-2.37.0/lib/python3.7/site-packages (from sympy) (1.2.1)\n",
      "Note: you may need to restart the kernel to use updated packages.\n"
     ]
    }
   ],
   "source": [
    "%pip install sympy"
   ]
  },
  {
   "cell_type": "code",
   "execution_count": 42,
   "id": "ef8e573c-535d-4043-9bba-517efbd46148",
   "metadata": {},
   "outputs": [],
   "source": [
    "import sympy"
   ]
  },
  {
   "cell_type": "code",
   "execution_count": 44,
   "id": "09393058-1d51-414f-abf1-80f1cee56750",
   "metadata": {},
   "outputs": [
    {
     "data": {
      "text/plain": [
       "True"
      ]
     },
     "execution_count": 44,
     "metadata": {},
     "output_type": "execute_result"
    }
   ],
   "source": [
    "sympy.isprime(7)"
   ]
  },
  {
   "cell_type": "code",
   "execution_count": 54,
   "id": "7cf28568-e7ba-4da9-8c8f-13773c960b6c",
   "metadata": {},
   "outputs": [
    {
     "name": "stderr",
     "output_type": "stream",
     "text": [
      "WARNING:root:Make sure that locally built Python SDK docker image has Python 3.7 interpreter.\n"
     ]
    },
    {
     "name": "stdout",
     "output_type": "stream",
     "text": [
      "1\n",
      "4\n",
      "6\n",
      "8\n",
      "9\n",
      "10\n",
      "12\n",
      "14\n",
      "15\n",
      "16\n",
      "18\n"
     ]
    },
    {
     "data": {
      "text/plain": [
       "<apache_beam.runners.portability.fn_api_runner.fn_runner.RunnerResult at 0x7f845baed690>"
      ]
     },
     "execution_count": 54,
     "metadata": {},
     "output_type": "execute_result"
    }
   ],
   "source": [
    "import apache_beam as beam\n",
    "from apache_beam import Create, Map\n",
    "\n",
    "p1 = beam.Pipeline()\n",
    "\n",
    "def is_prime_function(element, no_par):\n",
    "    return 1 if sympy.isprime(element) else 0\n",
    "\n",
    "is_prime = (p1 \n",
    "        | \"Create Element\" >> Create(range(1,20))\n",
    "        | \"Partition\" >> beam.Partition(is_prime_function , 2)\n",
    "        )\n",
    "\n",
    "#is_prime[1] | \"Print Prime Number\" >> Map(print)\n",
    "\n",
    "is_prime[0] | \"Print Non Prime Number\" >> Map(print)\n",
    "\n",
    "p1.run()\n"
   ]
  },
  {
   "cell_type": "markdown",
   "id": "dd461ceb-ac14-4e43-9793-467f3d559c76",
   "metadata": {},
   "source": [
    "# Regex"
   ]
  },
  {
   "cell_type": "code",
   "execution_count": 56,
   "id": "e850eec4-1857-4a22-8746-eff8217e1317",
   "metadata": {},
   "outputs": [
    {
     "name": "stderr",
     "output_type": "stream",
     "text": [
      "WARNING:root:Make sure that locally built Python SDK docker image has Python 3.7 interpreter.\n"
     ]
    },
    {
     "name": "stdout",
     "output_type": "stream",
     "text": [
      "hello\n",
      "world\n"
     ]
    },
    {
     "data": {
      "text/plain": [
       "<apache_beam.runners.portability.fn_api_runner.fn_runner.RunnerResult at 0x7f845b8de050>"
      ]
     },
     "execution_count": 56,
     "metadata": {},
     "output_type": "execute_result"
    }
   ],
   "source": [
    "import apache_beam as beam\n",
    "from apache_beam import Create, Map, ParDo, Filter\n",
    "\n",
    "p1 = beam.Pipeline()\n",
    "findcube = (p1 \n",
    "        | \"Create Element\" >> Create([\"1\", \"23\", \"hello\", \"world\"])\n",
    "        | \"Regex\" >> beam.Regex.matches(\"[a-z]+\")  #(\"(\\d+)\")\n",
    "        | \"Print\" >> Map(print)\n",
    "        )\n",
    "\n",
    "p1.run()"
   ]
  },
  {
   "cell_type": "markdown",
   "id": "96b0f08f-6e95-4edf-84a0-f0e8ea94d0f5",
   "metadata": {},
   "source": [
    "# Aggregation"
   ]
  },
  {
   "cell_type": "code",
   "execution_count": 57,
   "id": "d2f49a5a-8f27-4f99-a124-8d7f9fccecca",
   "metadata": {},
   "outputs": [
    {
     "name": "stderr",
     "output_type": "stream",
     "text": [
      "WARNING:root:Make sure that locally built Python SDK docker image has Python 3.7 interpreter.\n"
     ]
    },
    {
     "name": "stdout",
     "output_type": "stream",
     "text": [
      "4\n"
     ]
    },
    {
     "data": {
      "text/plain": [
       "<apache_beam.runners.portability.fn_api_runner.fn_runner.RunnerResult at 0x7f845b90fd10>"
      ]
     },
     "execution_count": 57,
     "metadata": {},
     "output_type": "execute_result"
    }
   ],
   "source": [
    "import apache_beam as beam\n",
    "from apache_beam import Create, Map\n",
    "\n",
    "p1 = beam.Pipeline()\n",
    "findcube = (p1 \n",
    "        | \"Create Element\" >> Create([\"1\", \"23\", \"hello\", \"world\"])\n",
    "        | \"Count\" >> beam.combiners.Count.Globally()\n",
    "        | \"Print\" >> Map(print)\n",
    "        )\n",
    "\n",
    "p1.run()"
   ]
  },
  {
   "cell_type": "code",
   "execution_count": 59,
   "id": "0063892b-79a5-4f14-a824-605ccc2918be",
   "metadata": {},
   "outputs": [
    {
     "name": "stderr",
     "output_type": "stream",
     "text": [
      "WARNING:root:Make sure that locally built Python SDK docker image has Python 3.7 interpreter.\n"
     ]
    },
    {
     "name": "stdout",
     "output_type": "stream",
     "text": [
      "('one+one', 2)\n",
      "('one+three', 4)\n"
     ]
    },
    {
     "data": {
      "text/plain": [
       "<apache_beam.runners.portability.fn_api_runner.fn_runner.RunnerResult at 0x7f845b984bd0>"
      ]
     },
     "execution_count": 59,
     "metadata": {},
     "output_type": "execute_result"
    }
   ],
   "source": [
    "import apache_beam as beam\n",
    "from apache_beam import Create, Map\n",
    "\n",
    "p1 = beam.Pipeline()\n",
    "findcube = (p1 \n",
    "        #| \"Create Element\" >> Create([(\"one+one\", [1,1]) , (\"one+three\", [1,3])])\n",
    "        | \"Create Element\" >> Create({\"one+one\" : [1,1], \"one+three\": [1,3] })\n",
    "        | \"Count\" >> beam.CombineValues(sum)\n",
    "        | \"Print\" >> Map(print)\n",
    "        )\n",
    "\n",
    "p1.run()"
   ]
  },
  {
   "cell_type": "code",
   "execution_count": 60,
   "id": "7279940c-330c-4500-87a8-f2d139faf0ed",
   "metadata": {},
   "outputs": [
    {
     "name": "stderr",
     "output_type": "stream",
     "text": [
      "WARNING:root:Make sure that locally built Python SDK docker image has Python 3.7 interpreter.\n"
     ]
    },
    {
     "name": "stdout",
     "output_type": "stream",
     "text": [
      "1\n",
      "2\n",
      "3\n",
      "4\n",
      "5\n"
     ]
    },
    {
     "data": {
      "text/plain": [
       "<apache_beam.runners.portability.fn_api_runner.fn_runner.RunnerResult at 0x7f845b98afd0>"
      ]
     },
     "execution_count": 60,
     "metadata": {},
     "output_type": "execute_result"
    }
   ],
   "source": [
    "import apache_beam as beam\n",
    "from apache_beam import Create, Map\n",
    "\n",
    "p1 = beam.Pipeline()\n",
    "findcube = (p1 \n",
    "        | \"Create Element\" >> Create([1,2,3,4,5,3,2,1])\n",
    "        | \"Count\" >> beam.Distinct()\n",
    "        | \"Print\" >> Map(print)\n",
    "        )\n",
    "\n",
    "p1.run()"
   ]
  },
  {
   "cell_type": "code",
   "execution_count": 62,
   "id": "57053964-93ff-4255-baac-b85b06eb0f6e",
   "metadata": {},
   "outputs": [
    {
     "name": "stderr",
     "output_type": "stream",
     "text": [
      "WARNING:root:Make sure that locally built Python SDK docker image has Python 3.7 interpreter.\n"
     ]
    },
    {
     "name": "stdout",
     "output_type": "stream",
     "text": [
      "[19, 8, 5, 15, 7]\n"
     ]
    },
    {
     "data": {
      "text/plain": [
       "<apache_beam.runners.portability.fn_api_runner.fn_runner.RunnerResult at 0x7f84653806d0>"
      ]
     },
     "execution_count": 62,
     "metadata": {},
     "output_type": "execute_result"
    }
   ],
   "source": [
    "import apache_beam as beam\n",
    "from apache_beam import Create, Map\n",
    "\n",
    "p1 = beam.Pipeline()\n",
    "findcube = (p1 \n",
    "        | \"Create Element\" >> Create(range(20))\n",
    "        | \"Count\" >> beam.combiners.Sample.FixedSizeGlobally(5)\n",
    "        | \"Print\" >> Map(print)\n",
    "        )\n",
    "\n",
    "p1.run()"
   ]
  },
  {
   "cell_type": "code",
   "execution_count": 66,
   "id": "67d8fc54-2466-4e3c-b344-606644bc1c66",
   "metadata": {},
   "outputs": [
    {
     "name": "stderr",
     "output_type": "stream",
     "text": [
      "WARNING:root:Make sure that locally built Python SDK docker image has Python 3.7 interpreter.\n"
     ]
    },
    {
     "name": "stdout",
     "output_type": "stream",
     "text": [
      "9\n"
     ]
    },
    {
     "data": {
      "text/plain": [
       "<apache_beam.runners.portability.fn_api_runner.fn_runner.RunnerResult at 0x7f845b86c5d0>"
      ]
     },
     "execution_count": 66,
     "metadata": {},
     "output_type": "execute_result"
    }
   ],
   "source": [
    "import apache_beam as beam\n",
    "from apache_beam import Create, Map\n",
    "\n",
    "p1 = beam.Pipeline()\n",
    "out = (p1 \n",
    "        | \"Create Element\" >> Create(range(10))\n",
    "        #| \"Sum\" >> beam.CombineGlobally(sum)\n",
    "        | \"Max\" >> beam.CombineGlobally(max)\n",
    "        | \"Print\" >> Map(print)\n",
    "        )\n",
    "\n",
    "p1.run()"
   ]
  },
  {
   "cell_type": "code",
   "execution_count": 68,
   "id": "03357c5e-aa4b-496c-bbec-340dea05fbe6",
   "metadata": {},
   "outputs": [
    {
     "name": "stderr",
     "output_type": "stream",
     "text": [
      "WARNING:root:Make sure that locally built Python SDK docker image has Python 3.7 interpreter.\n"
     ]
    },
    {
     "name": "stdout",
     "output_type": "stream",
     "text": [
      "('hello', 2.5)\n",
      "('bye', 7.0)\n"
     ]
    },
    {
     "data": {
      "text/plain": [
       "<apache_beam.runners.portability.fn_api_runner.fn_runner.RunnerResult at 0x7f846529c210>"
      ]
     },
     "execution_count": 68,
     "metadata": {},
     "output_type": "execute_result"
    }
   ],
   "source": [
    "import apache_beam as beam\n",
    "from apache_beam import Create, Map\n",
    "\n",
    "p1 = beam.Pipeline()\n",
    "out = (p1 \n",
    "        | \"Create Element\" >> Create([(\"hello\", 1), (\"hello\" , 4), (\"bye\" , 7)])\n",
    "        | \"Mean of perkey\" >> beam.combiners.Mean.PerKey()\n",
    "        | \"Print\" >> Map(print)\n",
    "        )\n",
    "\n",
    "p1.run()"
   ]
  },
  {
   "cell_type": "code",
   "execution_count": 70,
   "id": "45303f65-6d81-40cb-bddd-484edf1ed754",
   "metadata": {},
   "outputs": [
    {
     "name": "stderr",
     "output_type": "stream",
     "text": [
      "WARNING:root:Make sure that locally built Python SDK docker image has Python 3.7 interpreter.\n"
     ]
    },
    {
     "name": "stdout",
     "output_type": "stream",
     "text": [
      "[0, 1]\n"
     ]
    },
    {
     "data": {
      "text/plain": [
       "<apache_beam.runners.portability.fn_api_runner.fn_runner.RunnerResult at 0x7f845b84f6d0>"
      ]
     },
     "execution_count": 70,
     "metadata": {},
     "output_type": "execute_result"
    }
   ],
   "source": [
    "import apache_beam as beam\n",
    "from apache_beam import Create, Map\n",
    "\n",
    "p1 = beam.Pipeline()\n",
    "out = (p1 \n",
    "        | \"Create Element\" >> Create(range(10))\n",
    "        #| \"Top 2\" >> beam.combiners.Top.Largest(2)\n",
    "        | \"Small 2\" >> beam.combiners.Top.Smallest(2)\n",
    "        | \"Print\" >> Map(print)\n",
    "        )\n",
    "\n",
    "p1.run()"
   ]
  },
  {
   "cell_type": "code",
   "execution_count": 71,
   "id": "c38747d0-f31b-41da-9ab9-cb475f046304",
   "metadata": {},
   "outputs": [
    {
     "name": "stderr",
     "output_type": "stream",
     "text": [
      "WARNING:root:Make sure that locally built Python SDK docker image has Python 3.7 interpreter.\n"
     ]
    },
    {
     "name": "stdout",
     "output_type": "stream",
     "text": [
      "('hello', [4])\n",
      "('bye', [7])\n"
     ]
    },
    {
     "data": {
      "text/plain": [
       "<apache_beam.runners.portability.fn_api_runner.fn_runner.RunnerResult at 0x7f845b349390>"
      ]
     },
     "execution_count": 71,
     "metadata": {},
     "output_type": "execute_result"
    }
   ],
   "source": [
    "import apache_beam as beam\n",
    "from apache_beam import Create, Map\n",
    "\n",
    "p1 = beam.Pipeline()\n",
    "out = (p1 \n",
    "        | \"Create Element\" >> Create([(\"hello\", 1), (\"hello\" , 4), (\"bye\" , 7)])\n",
    "        | \"Top 1 Per key\" >> beam.combiners.Top.LargestPerKey(1)\n",
    "        | \"Print\" >> Map(print)\n",
    "        )\n",
    "\n",
    "p1.run()"
   ]
  },
  {
   "cell_type": "code",
   "execution_count": 72,
   "id": "d7d4da40-02cc-4ab6-aef7-dfb842034db8",
   "metadata": {},
   "outputs": [
    {
     "name": "stderr",
     "output_type": "stream",
     "text": [
      "WARNING:root:Make sure that locally built Python SDK docker image has Python 3.7 interpreter.\n"
     ]
    },
    {
     "name": "stdout",
     "output_type": "stream",
     "text": [
      "('hello', 5)\n",
      "('bye', 7)\n"
     ]
    },
    {
     "data": {
      "text/plain": [
       "<apache_beam.runners.portability.fn_api_runner.fn_runner.RunnerResult at 0x7f845b2440d0>"
      ]
     },
     "execution_count": 72,
     "metadata": {},
     "output_type": "execute_result"
    }
   ],
   "source": [
    "import apache_beam as beam\n",
    "from apache_beam import Create, Map\n",
    "\n",
    "p1 = beam.Pipeline()\n",
    "out = (p1 \n",
    "        | \"Create Element\" >> Create([(\"hello\", 1), (\"hello\" , 4), (\"bye\" , 7)])\n",
    "        | \"Sum perkey basis\" >> beam.CombinePerKey(sum)\n",
    "        | \"Print\" >> Map(print)\n",
    "        )\n",
    "\n",
    "p1.run()"
   ]
  },
  {
   "cell_type": "code",
   "execution_count": null,
   "id": "3cfe15d5-e108-4bd8-b064-914e637defb8",
   "metadata": {},
   "outputs": [],
   "source": []
  }
 ],
 "metadata": {
  "kernelspec": {
   "display_name": "01. Apache Beam 2.37.0 for Python 3",
   "language": "python",
   "name": "01-apache-beam-2.37.0"
  },
  "language_info": {
   "codemirror_mode": {
    "name": "ipython",
    "version": 3
   },
   "file_extension": ".py",
   "mimetype": "text/x-python",
   "name": "python",
   "nbconvert_exporter": "python",
   "pygments_lexer": "ipython3",
   "version": "3.7.12"
  }
 },
 "nbformat": 4,
 "nbformat_minor": 5
}
